{
 "cells": [
  {
   "cell_type": "code",
   "execution_count": 1,
   "metadata": {},
   "outputs": [
    {
     "data": {
      "text/plain": [
       "'/Users/eugenerabinovich/sp1'"
      ]
     },
     "execution_count": 1,
     "metadata": {},
     "output_type": "execute_result"
    }
   ],
   "source": [
    "%pwd"
   ]
  },
  {
   "cell_type": "code",
   "execution_count": 2,
   "metadata": {},
   "outputs": [
    {
     "name": "stdout",
     "output_type": "stream",
     "text": [
      "[Errno 2] No such file or directory: '/Users/eugenerabinovich/examples/fibonacci/script'\n",
      "/Users/eugenerabinovich/sp1\n"
     ]
    },
    {
     "name": "stderr",
     "output_type": "stream",
     "text": [
      "/Users/eugenerabinovich/Library/Python/3.9/lib/python/site-packages/IPython/core/magics/osm.py:393: UserWarning: using bookmarks requires you to install the `pickleshare` library.\n",
      "  bkms = self.shell.db.get('bookmarks', {})\n"
     ]
    }
   ],
   "source": [
    "%cd ~/examples/fibonacci/script"
   ]
  },
  {
   "cell_type": "code",
   "execution_count": 4,
   "metadata": {},
   "outputs": [
    {
     "data": {
      "text/plain": [
       "'/Users/eugenerabinovich/sp1'"
      ]
     },
     "execution_count": 4,
     "metadata": {},
     "output_type": "execute_result"
    }
   ],
   "source": [
    "%pwd"
   ]
  },
  {
   "cell_type": "code",
   "execution_count": 1,
   "metadata": {},
   "outputs": [
    {
     "data": {
      "text/plain": [
       "(1327280, 2)"
      ]
     },
     "execution_count": 1,
     "metadata": {},
     "output_type": "execute_result"
    }
   ],
   "source": [
    "import pandas as pd\n",
    "df = pd.read_csv(\"~/sp1/examples/fibonacci/script/perm_bench.csv\")\n",
    "df.shape"
   ]
  },
  {
   "cell_type": "code",
   "execution_count": 2,
   "metadata": {},
   "outputs": [
    {
     "data": {
      "text/html": [
       "<div>\n",
       "<style scoped>\n",
       "    .dataframe tbody tr th:only-of-type {\n",
       "        vertical-align: middle;\n",
       "    }\n",
       "\n",
       "    .dataframe tbody tr th {\n",
       "        vertical-align: top;\n",
       "    }\n",
       "\n",
       "    .dataframe thead th {\n",
       "        text-align: right;\n",
       "    }\n",
       "</style>\n",
       "<table border=\"1\" class=\"dataframe\">\n",
       "  <thead>\n",
       "    <tr style=\"text-align: right;\">\n",
       "      <th></th>\n",
       "      <th>Process</th>\n",
       "      <th>Time</th>\n",
       "    </tr>\n",
       "  </thead>\n",
       "  <tbody>\n",
       "    <tr>\n",
       "      <th>0</th>\n",
       "      <td>RLC Gen</td>\n",
       "      <td>5.420000e-07</td>\n",
       "    </tr>\n",
       "    <tr>\n",
       "      <th>1</th>\n",
       "      <td>Denom Comp</td>\n",
       "      <td>1.900000e-05</td>\n",
       "    </tr>\n",
       "    <tr>\n",
       "      <th>2</th>\n",
       "      <td>Denom Comp</td>\n",
       "      <td>1.300000e-05</td>\n",
       "    </tr>\n",
       "    <tr>\n",
       "      <th>3</th>\n",
       "      <td>Denom Comp</td>\n",
       "      <td>1.000000e-05</td>\n",
       "    </tr>\n",
       "    <tr>\n",
       "      <th>4</th>\n",
       "      <td>Denom Comp</td>\n",
       "      <td>2.000000e-06</td>\n",
       "    </tr>\n",
       "  </tbody>\n",
       "</table>\n",
       "</div>"
      ],
      "text/plain": [
       "      Process          Time\n",
       "0     RLC Gen  5.420000e-07\n",
       "1  Denom Comp  1.900000e-05\n",
       "2  Denom Comp  1.300000e-05\n",
       "3  Denom Comp  1.000000e-05\n",
       "4  Denom Comp  2.000000e-06"
      ]
     },
     "execution_count": 2,
     "metadata": {},
     "output_type": "execute_result"
    }
   ],
   "source": [
    "df.head()"
   ]
  },
  {
   "cell_type": "code",
   "execution_count": 3,
   "metadata": {},
   "outputs": [
    {
     "data": {
      "text/html": [
       "<div>\n",
       "<style scoped>\n",
       "    .dataframe tbody tr th:only-of-type {\n",
       "        vertical-align: middle;\n",
       "    }\n",
       "\n",
       "    .dataframe tbody tr th {\n",
       "        vertical-align: top;\n",
       "    }\n",
       "\n",
       "    .dataframe thead th {\n",
       "        text-align: right;\n",
       "    }\n",
       "</style>\n",
       "<table border=\"1\" class=\"dataframe\">\n",
       "  <thead>\n",
       "    <tr style=\"text-align: right;\">\n",
       "      <th></th>\n",
       "      <th>Time</th>\n",
       "    </tr>\n",
       "    <tr>\n",
       "      <th>Process</th>\n",
       "      <th></th>\n",
       "    </tr>\n",
       "  </thead>\n",
       "  <tbody>\n",
       "    <tr>\n",
       "      <th>Denom Comp</th>\n",
       "      <td>3.931075e+01</td>\n",
       "    </tr>\n",
       "    <tr>\n",
       "      <th>Main Perm Total</th>\n",
       "      <td>4.480311e+01</td>\n",
       "    </tr>\n",
       "    <tr>\n",
       "      <th>RLC Gen</th>\n",
       "      <td>2.736279e-02</td>\n",
       "    </tr>\n",
       "    <tr>\n",
       "      <th>Remainder Perm Total</th>\n",
       "      <td>3.740000e-07</td>\n",
       "    </tr>\n",
       "  </tbody>\n",
       "</table>\n",
       "</div>"
      ],
      "text/plain": [
       "                              Time\n",
       "Process                           \n",
       "Denom Comp            3.931075e+01\n",
       "Main Perm Total       4.480311e+01\n",
       "RLC Gen               2.736279e-02\n",
       "Remainder Perm Total  3.740000e-07"
      ]
     },
     "execution_count": 3,
     "metadata": {},
     "output_type": "execute_result"
    }
   ],
   "source": [
    "df.groupby('Process').sum()"
   ]
  },
  {
   "cell_type": "code",
   "execution_count": 4,
   "metadata": {},
   "outputs": [
    {
     "data": {
      "text/html": [
       "<div>\n",
       "<style scoped>\n",
       "    .dataframe tbody tr th:only-of-type {\n",
       "        vertical-align: middle;\n",
       "    }\n",
       "\n",
       "    .dataframe tbody tr th {\n",
       "        vertical-align: top;\n",
       "    }\n",
       "\n",
       "    .dataframe thead th {\n",
       "        text-align: right;\n",
       "    }\n",
       "</style>\n",
       "<table border=\"1\" class=\"dataframe\">\n",
       "  <thead>\n",
       "    <tr style=\"text-align: right;\">\n",
       "      <th></th>\n",
       "      <th>Process</th>\n",
       "      <th>Time</th>\n",
       "    </tr>\n",
       "  </thead>\n",
       "  <tbody>\n",
       "    <tr>\n",
       "      <th>7155</th>\n",
       "      <td>Main Perm Total</td>\n",
       "      <td>0.035386</td>\n",
       "    </tr>\n",
       "    <tr>\n",
       "      <th>7202</th>\n",
       "      <td>Main Perm Total</td>\n",
       "      <td>0.035299</td>\n",
       "    </tr>\n",
       "    <tr>\n",
       "      <th>28339</th>\n",
       "      <td>Main Perm Total</td>\n",
       "      <td>0.138038</td>\n",
       "    </tr>\n",
       "    <tr>\n",
       "      <th>53541</th>\n",
       "      <td>Main Perm Total</td>\n",
       "      <td>0.267695</td>\n",
       "    </tr>\n",
       "    <tr>\n",
       "      <th>71806</th>\n",
       "      <td>Main Perm Total</td>\n",
       "      <td>0.361303</td>\n",
       "    </tr>\n",
       "    <tr>\n",
       "      <th>1260030</th>\n",
       "      <td>Main Perm Total</td>\n",
       "      <td>6.266579</td>\n",
       "    </tr>\n",
       "    <tr>\n",
       "      <th>1261848</th>\n",
       "      <td>Main Perm Total</td>\n",
       "      <td>6.283256</td>\n",
       "    </tr>\n",
       "    <tr>\n",
       "      <th>1261849</th>\n",
       "      <td>Main Perm Total</td>\n",
       "      <td>6.283294</td>\n",
       "    </tr>\n",
       "    <tr>\n",
       "      <th>1261851</th>\n",
       "      <td>Main Perm Total</td>\n",
       "      <td>6.283346</td>\n",
       "    </tr>\n",
       "    <tr>\n",
       "      <th>1261852</th>\n",
       "      <td>Main Perm Total</td>\n",
       "      <td>6.282903</td>\n",
       "    </tr>\n",
       "    <tr>\n",
       "      <th>1261854</th>\n",
       "      <td>Main Perm Total</td>\n",
       "      <td>6.283402</td>\n",
       "    </tr>\n",
       "    <tr>\n",
       "      <th>1261855</th>\n",
       "      <td>Main Perm Total</td>\n",
       "      <td>6.282614</td>\n",
       "    </tr>\n",
       "  </tbody>\n",
       "</table>\n",
       "</div>"
      ],
      "text/plain": [
       "                 Process      Time\n",
       "7155     Main Perm Total  0.035386\n",
       "7202     Main Perm Total  0.035299\n",
       "28339    Main Perm Total  0.138038\n",
       "53541    Main Perm Total  0.267695\n",
       "71806    Main Perm Total  0.361303\n",
       "1260030  Main Perm Total  6.266579\n",
       "1261848  Main Perm Total  6.283256\n",
       "1261849  Main Perm Total  6.283294\n",
       "1261851  Main Perm Total  6.283346\n",
       "1261852  Main Perm Total  6.282903\n",
       "1261854  Main Perm Total  6.283402\n",
       "1261855  Main Perm Total  6.282614"
      ]
     },
     "execution_count": 4,
     "metadata": {},
     "output_type": "execute_result"
    }
   ],
   "source": [
    "df[df['Process']=='Main Perm Total']"
   ]
  },
  {
   "cell_type": "code",
   "execution_count": null,
   "metadata": {},
   "outputs": [],
   "source": []
  }
 ],
 "metadata": {
  "kernelspec": {
   "display_name": "Python 3",
   "language": "python",
   "name": "python3"
  },
  "language_info": {
   "codemirror_mode": {
    "name": "ipython",
    "version": 3
   },
   "file_extension": ".py",
   "mimetype": "text/x-python",
   "name": "python",
   "nbconvert_exporter": "python",
   "pygments_lexer": "ipython3",
   "version": "3.9.6"
  }
 },
 "nbformat": 4,
 "nbformat_minor": 2
}
